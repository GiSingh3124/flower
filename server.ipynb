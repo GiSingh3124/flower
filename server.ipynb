{
 "cells": [
  {
   "cell_type": "code",
   "execution_count": null,
   "metadata": {},
   "outputs": [
    {
     "name": "stderr",
     "output_type": "stream",
     "text": [
      "INFO flwr 2025-03-12 11:42:37,907 | app.py:165 | Starting Flower server, config: ServerConfig(num_rounds=20, round_timeout=None)\n",
      "INFO flwr 2025-03-12 11:42:37,965 | app.py:179 | Flower ECE: gRPC server running (20 rounds), SSL is disabled\n",
      "INFO flwr 2025-03-12 11:42:37,966 | server.py:89 | Initializing global parameters\n",
      "INFO flwr 2025-03-12 11:42:37,966 | server.py:276 | Requesting initial parameters from one random client\n"
     ]
    }
   ],
   "source": [
    "import flwr as fl\n",
    "\n",
    "def aggregate_fit_metrics(metrics_list):\n",
    "\n",
    "    total_examples = sum(num_examples for num_examples, _ in metrics_list)\n",
    "    if total_examples == 0:\n",
    "        return {}\n",
    "    aggregated = {}\n",
    "    for num_examples, metrics in metrics_list:\n",
    "        for key, value in metrics.items():\n",
    "            aggregated[key] = aggregated.get(key, 0) + value * num_examples\n",
    "    # Calcola la media ponderata\n",
    "    for key in aggregated:\n",
    "        aggregated[key] /= total_examples\n",
    "    return aggregated\n",
    "\n",
    "def aggregate_evaluate_metrics(metrics_list):\n",
    "    \n",
    "    total_examples = sum(num_examples for num_examples, _ in metrics_list)\n",
    "    if total_examples == 0:\n",
    "        return {}\n",
    "    aggregated = {}\n",
    "    for num_examples, metrics in metrics_list:\n",
    "        for key, value in metrics.items():\n",
    "            aggregated[key] = aggregated.get(key, 0) + value * num_examples\n",
    "    \n",
    "    for key in aggregated:\n",
    "        aggregated[key] /= total_examples\n",
    "    return aggregated\n",
    "\n",
    "\n",
    "strategy = fl.server.strategy.FedAvg(\n",
    "    fraction_fit=1.0,                   # Usa tutti i client disponibili per il training\n",
    "    min_fit_clients=2,                  # Num mini di client per iniziare il training\n",
    "    min_available_clients=2,            # Num mini di client connessi per ogni round\n",
    "    fit_metrics_aggregation_fn=aggregate_fit_metrics,\n",
    "    evaluate_metrics_aggregation_fn=aggregate_evaluate_metrics,\n",
    ")\n",
    "\n",
    "if __name__ == \"__main__\":\n",
    "    # Avvia il server Flower per 3 round\n",
    "    fl.server.start_server(\n",
    "        server_address=\"localhost:8080\",\n",
    "        config=fl.server.ServerConfig(num_rounds=20),\n",
    "        strategy=strategy,\n",
    "    )\n"
   ]
  }
 ],
 "metadata": {
  "kernelspec": {
   "display_name": "Python 3",
   "language": "python",
   "name": "python3"
  },
  "language_info": {
   "codemirror_mode": {
    "name": "ipython",
    "version": 3
   },
   "file_extension": ".py",
   "mimetype": "text/x-python",
   "name": "python",
   "nbconvert_exporter": "python",
   "pygments_lexer": "ipython3",
   "version": "3.7.4"
  }
 },
 "nbformat": 4,
 "nbformat_minor": 2
}
